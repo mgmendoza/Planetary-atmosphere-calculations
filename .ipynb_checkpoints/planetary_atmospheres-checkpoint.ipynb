{
 "cells": [
  {
   "cell_type": "markdown",
   "metadata": {},
   "source": [
    "#### First we will define the following variables for planets Earth, Mars and Venus:\n",
    "R =  Specific gas constants [J/kg-K]\\\n",
    "r =  Planet radii [m]\\\n",
    "g =  gravity [m/s^2]"
   ]
  },
  {
   "cell_type": "code",
   "execution_count": 1,
   "metadata": {},
   "outputs": [],
   "source": [
    "R_earth = 287\n",
    "R_mars = 188.92\n",
    "R_venus = 188.92\n",
    "r_earth = 6378.14e3\n",
    "r_mars = 3397.2e3\n",
    "r_venus = 6051.8e3\n",
    "g_earth = 9.8\n",
    "g_mars = 3.8\n",
    "g_venus = 8.9\n"
   ]
  },
  {
   "cell_type": "code",
   "execution_count": null,
   "metadata": {},
   "outputs": [],
   "source": []
  }
 ],
 "metadata": {
  "kernelspec": {
   "display_name": "Python 3",
   "language": "python",
   "name": "python3"
  },
  "language_info": {
   "codemirror_mode": {
    "name": "ipython",
    "version": 3
   },
   "file_extension": ".py",
   "mimetype": "text/x-python",
   "name": "python",
   "nbconvert_exporter": "python",
   "pygments_lexer": "ipython3",
   "version": "3.8.5"
  }
 },
 "nbformat": 4,
 "nbformat_minor": 4
}
